{
 "cells": [
  {
   "cell_type": "markdown",
   "id": "99ad70d2-d73d-4391-905d-22e6fd05e85b",
   "metadata": {},
   "source": [
    "# TicketMaster data extraction"
   ]
  },
  {
   "cell_type": "code",
   "execution_count": 12,
   "id": "43d3b8dc-9021-4f3a-aeb2-95e42589ab56",
   "metadata": {},
   "outputs": [],
   "source": [
    "import requests\n",
    "import json\n",
    "import csv\n",
    "import pandas as pd"
   ]
  },
  {
   "cell_type": "code",
   "execution_count": 4,
   "id": "4ef00a76-0d69-4393-aa66-b138d86c6436",
   "metadata": {},
   "outputs": [],
   "source": [
    "# List of artist names (from your artist_names_list)\n",
    "with open('/Users/evamartin/Desktop/MDS/curs1/ADSDB/data/artist_names_list.txt', 'r') as file:\n",
    "    artist_names = [line.strip() for line in file]"
   ]
  },
  {
   "cell_type": "code",
   "execution_count": 5,
   "id": "4daa9803-bbc5-4056-9679-8220c5567ced",
   "metadata": {},
   "outputs": [],
   "source": [
    "api_key = 'SR6gANwlcVVGnF5DIhkAh38oaRf3a7PR'"
   ]
  },
  {
   "cell_type": "markdown",
   "id": "1cede195-4360-4a4c-9599-dd77f526765c",
   "metadata": {},
   "source": [
    "### 1) Retrieve artists information from TicketMaster API (save it in a JSON file)"
   ]
  },
  {
   "cell_type": "code",
   "execution_count": 6,
   "id": "289fdcb8-add1-4365-81e7-b7638fd4f146",
   "metadata": {},
   "outputs": [],
   "source": [
    "# Función para obtener los detalles importantes de cada evento\n",
    "\n",
    "def extract_event_info(artist, event):\n",
    "    venue = event['_embedded']['venues'][0] if '_embedded' in event and 'venues' in event['_embedded'] else {}\n",
    "    \n",
    "    # Obtener el rango de precios si está disponible\n",
    "    price_range = event.get('priceRanges', [])\n",
    "    if price_range:\n",
    "        min_price = price_range[0].get('min', 'N/A')\n",
    "        max_price = price_range[0].get('max', 'N/A')\n",
    "        currency = price_range[0].get('currency', 'N/A')\n",
    "        price_info = f\"{min_price}-{max_price} {currency}\"\n",
    "    else:\n",
    "        price_info = 'N/A'\n",
    "\n",
    "    # Obtener el nombre del venue tal cual\n",
    "    venue_name = venue.get('name', 'N/A')\n",
    "    \n",
    "    event_info = {\n",
    "        'artist': artist,\n",
    "        'name': event.get('name', 'N/A'),\n",
    "        'date': event['dates']['start'].get('localDate', 'N/A') if 'dates' in event else 'N/A',\n",
    "        'time': event['dates']['start'].get('localTime', 'N/A') if 'dates' in event else 'N/A',\n",
    "        'venue': venue_name,\n",
    "        'location': f\"{venue.get('city', {}).get('name', 'N/A')}, {venue.get('country', {}).get('name', 'N/A')}\",\n",
    "        'capacity': venue.get('capacity', 'N/A'),\n",
    "        'price_range': price_info,\n",
    "    }\n",
    "    return event_info"
   ]
  },
  {
   "cell_type": "code",
   "execution_count": 7,
   "id": "c4693b7f-9ab9-434e-85a2-6bacaf46920d",
   "metadata": {},
   "outputs": [],
   "source": [
    "# Lista para almacenar todos los eventos de los artistas\n",
    "all_artist_events = []\n",
    "\n",
    "# Recorrer cada artista para obtener sus eventos\n",
    "for artist_name in artist_names:\n",
    "    url = f\"https://app.ticketmaster.com/discovery/v2/events.json?keyword={artist_name}&apikey={api_key}\"\n",
    "    \n",
    "    # Hacer la solicitud\n",
    "    response = requests.get(url)\n",
    "    \n",
    "    # Verificar si la solicitud fue exitosa\n",
    "    if response.status_code == 200:\n",
    "        artist_events = response.json()\n",
    "        \n",
    "        # Extraer eventos si existen\n",
    "        if '_embedded' in artist_events and 'events' in artist_events['_embedded']:\n",
    "            for event in artist_events['_embedded']['events']:\n",
    "                event_data = extract_event_info(artist_name, event)\n",
    "                all_artist_events.append(event_data)\n"
   ]
  },
  {
   "cell_type": "code",
   "execution_count": 8,
   "id": "bfeae941-7d3d-4aea-93c1-a7fff1cf5809",
   "metadata": {},
   "outputs": [
    {
     "name": "stdout",
     "output_type": "stream",
     "text": [
      "Datos guardados en ticketmaster_data.json\n"
     ]
    }
   ],
   "source": [
    "# Guardar los eventos en un archivo JSON\n",
    "with open('ticketmaster_data.json', 'w', encoding='utf-8') as json_file:\n",
    "    json.dump(all_artist_events, json_file, ensure_ascii=False, indent=4)\n",
    "\n",
    "print(\"Datos guardados en ticketmaster_data.json\")"
   ]
  },
  {
   "cell_type": "markdown",
   "id": "3adbca2f-72be-4bc0-905e-c401273398c3",
   "metadata": {},
   "source": [
    "### 2) Load artists data from JSON file"
   ]
  },
  {
   "cell_type": "code",
   "execution_count": 9,
   "id": "c23d5c9d-79d1-41ae-af9a-a9ddfc6a30e1",
   "metadata": {},
   "outputs": [],
   "source": [
    "# Leer el archivo JSON\n",
    "with open('ticketmaster_data.json', 'r', encoding='utf-8') as json_file:\n",
    "    all_artist_events = json.load(json_file)"
   ]
  },
  {
   "cell_type": "markdown",
   "id": "083246eb-5115-4a7d-abb0-7fdb35a6e1ad",
   "metadata": {},
   "source": [
    "### 3) Build CSV with the data from JSON file"
   ]
  },
  {
   "cell_type": "code",
   "execution_count": 10,
   "id": "fcd8e903-efdc-4988-987d-20c18ed8aefd",
   "metadata": {},
   "outputs": [
    {
     "name": "stdout",
     "output_type": "stream",
     "text": [
      "Datos convertidos a CSV en ticketmaster_data.csv\n"
     ]
    }
   ],
   "source": [
    "# Especificar las columnas que queremos en el CSV\n",
    "fieldnames = ['artist', 'name', 'date', 'time', 'venue', 'location', 'capacity', 'price_range']\n",
    "\n",
    "# Escribir los datos en un archivo CSV\n",
    "with open('ticketmaster_data.csv', 'w', newline='', encoding='utf-8') as csv_file:\n",
    "    writer = csv.DictWriter(csv_file, fieldnames=fieldnames)\n",
    "    writer.writeheader()\n",
    "    writer.writerows(all_artist_events)\n",
    "\n",
    "print(\"Datos convertidos a CSV en ticketmaster_data.csv\")"
   ]
  },
  {
   "cell_type": "markdown",
   "id": "f8666a48-c061-409d-aaaf-adb2ba5b4649",
   "metadata": {},
   "source": [
    "### 4) Load CSV"
   ]
  },
  {
   "cell_type": "code",
   "execution_count": 13,
   "id": "1bdc29cd-faa2-496a-b9d7-742634137b22",
   "metadata": {},
   "outputs": [
    {
     "name": "stdout",
     "output_type": "stream",
     "text": [
      "           artist                            name        date      time  \\\n",
      "0     Jay Wheeler                     Jay Wheeler  2024-10-25  20:00:00   \n",
      "1     Jay Wheeler                     Jay Wheeler  2024-10-26  20:00:00   \n",
      "2     Jay Wheeler                     Jay Wheeler  2024-10-27  20:00:00   \n",
      "3     Jay Wheeler                     Jay Wheeler  2024-10-19  20:00:00   \n",
      "4     Jay Wheeler                     Jay Wheeler  2024-10-20  20:00:00   \n",
      "...           ...                             ...         ...       ...   \n",
      "1080  Post Malone         Post Malone - Lawn Pass  2024-10-04  20:00:00   \n",
      "1081  Post Malone         Lawn Pass - Post Malone  2024-10-05  20:00:00   \n",
      "1082  Post Malone      Parkhub Merch: Post Malone  2024-10-07  19:30:00   \n",
      "1083  Post Malone  Post Malone: F-1 Trillion Tour  2024-10-13  20:00:00   \n",
      "1084  Post Malone  Post Malone: F-1 Trillion Tour  2024-10-19  20:00:00   \n",
      "\n",
      "                                             venue  \\\n",
      "0                             Peacock Theater - LA   \n",
      "1             Smart Financial Centre at Sugar Land   \n",
      "2     Austin City Limits Live at The Moody Theater   \n",
      "3                                      Hertz Arena   \n",
      "4                                    Kaseya Center   \n",
      "...                                            ...   \n",
      "1080                           Veterans United Amp   \n",
      "1081                            Coastal Music Park   \n",
      "1082                            PNC Music Pavilion   \n",
      "1083                                   Walmart AMP   \n",
      "1084                                Nissan Stadium   \n",
      "\n",
      "                                      location  capacity price_range  \n",
      "0        Los Angeles, United States Of America       NaN         NaN  \n",
      "1         Sugar Land, United States Of America       NaN         NaN  \n",
      "2             Austin, United States Of America       NaN         NaN  \n",
      "3             Estero, United States Of America       NaN         NaN  \n",
      "4              Miami, United States Of America       NaN         NaN  \n",
      "...                                        ...       ...         ...  \n",
      "1080  Virginia Beach, United States Of America       NaN         NaN  \n",
      "1081         Raleigh, United States Of America       NaN         NaN  \n",
      "1082       Charlotte, United States Of America       NaN         NaN  \n",
      "1083          Rogers, United States Of America       NaN         NaN  \n",
      "1084       Nashville, United States Of America       NaN         NaN  \n",
      "\n",
      "[1085 rows x 8 columns]\n"
     ]
    }
   ],
   "source": [
    "# Leer el archivo CSV en un DataFrame\n",
    "df = pd.read_csv('ticketmaster_data.csv', encoding='utf-8')\n",
    "\n",
    "# Mostrar los datos\n",
    "print(df)\n"
   ]
  },
  {
   "cell_type": "code",
   "execution_count": 14,
   "id": "5998ba3a-9d66-408b-ac6f-ad4e18a52556",
   "metadata": {},
   "outputs": [
    {
     "data": {
      "text/plain": [
       "113"
      ]
     },
     "execution_count": 14,
     "metadata": {},
     "output_type": "execute_result"
    }
   ],
   "source": [
    "df['artist'].nunique()"
   ]
  }
 ],
 "metadata": {
  "kernelspec": {
   "display_name": "Python (my-env)",
   "language": "python",
   "name": "my-env"
  },
  "language_info": {
   "codemirror_mode": {
    "name": "ipython",
    "version": 3
   },
   "file_extension": ".py",
   "mimetype": "text/x-python",
   "name": "python",
   "nbconvert_exporter": "python",
   "pygments_lexer": "ipython3",
   "version": "3.12.5"
  }
 },
 "nbformat": 4,
 "nbformat_minor": 5
}
